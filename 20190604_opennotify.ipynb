{
 "cells": [
  {
   "cell_type": "markdown",
   "metadata": {},
   "source": [
    "# Where is the International Space Station?\n",
    "\n",
    "The International Space Station (ISS) is the largest human-made body in low Earth orbit. It has been inhabited continously since November 2000 and NASA is considering allowing tourists to visit it!\n",
    "\n",
    "## Data\n",
    "\n",
    "[Open Notify](http://open-notify.org/Open-Notify-API/) is a collection of NASA and space APIs for public use, developped by [Nathan Bergey](https://github.com/natronics).\n",
    "\n",
    "The [GeoNames geographical database](http://www.geonames.org) covers all countries and contains over eleven million placenames that can be downloaded or accessed via their web services.\n",
    "\n",
    "## Project\n",
    "\n",
    "Check out [my project here](https://fannykassapian.github.io/iss.html)."
   ]
  },
  {
   "cell_type": "code",
   "execution_count": 17,
   "metadata": {},
   "outputs": [],
   "source": [
    "# Import libraries\n",
    "import numpy as np\n",
    "import pandas as pd\n",
    "import datetime as dt\n",
    "import json\n",
    "import requests"
   ]
  },
  {
   "cell_type": "markdown",
   "metadata": {},
   "source": [
    "# Who's up there?\n",
    "\n",
    "API:\n",
    "http://open-notify.org/Open-Notify-API/People-In-Space/"
   ]
  },
  {
   "cell_type": "code",
   "execution_count": 18,
   "metadata": {},
   "outputs": [
    {
     "data": {
      "text/plain": [
       "{'message': 'success',\n",
       " 'number': 6,\n",
       " 'people': [{'craft': 'ISS', 'name': 'Oleg Kononenko'},\n",
       "  {'craft': 'ISS', 'name': 'David Saint-Jacques'},\n",
       "  {'craft': 'ISS', 'name': 'Anne McClain'},\n",
       "  {'craft': 'ISS', 'name': 'Alexey Ovchinin'},\n",
       "  {'craft': 'ISS', 'name': 'Nick Hague'},\n",
       "  {'craft': 'ISS', 'name': 'Christina Koch'}]}"
      ]
     },
     "execution_count": 18,
     "metadata": {},
     "output_type": "execute_result"
    }
   ],
   "source": [
    "response_1 = requests.get('http://api.open-notify.org/astros.json')\n",
    "response_1 = response_1.json()\n",
    "response_1"
   ]
  },
  {
   "cell_type": "code",
   "execution_count": 19,
   "metadata": {},
   "outputs": [
    {
     "data": {
      "text/plain": [
       "6"
      ]
     },
     "execution_count": 19,
     "metadata": {},
     "output_type": "execute_result"
    }
   ],
   "source": [
    "number_people = response_1['number']\n",
    "number_people"
   ]
  },
  {
   "cell_type": "code",
   "execution_count": 20,
   "metadata": {},
   "outputs": [
    {
     "data": {
      "text/plain": [
       "['Oleg Kononenko',\n",
       " 'David Saint-Jacques',\n",
       " 'Anne McClain',\n",
       " 'Alexey Ovchinin',\n",
       " 'Nick Hague',\n",
       " 'Christina Koch']"
      ]
     },
     "execution_count": 20,
     "metadata": {},
     "output_type": "execute_result"
    }
   ],
   "source": [
    "people = [i['name'] for i in response_1['people']]\n",
    "people"
   ]
  },
  {
   "cell_type": "markdown",
   "metadata": {},
   "source": [
    "# Where is the ISS?\n",
    "\n",
    "API:\n",
    "http://open-notify.org/Open-Notify-API/ISS-Location-Now/"
   ]
  },
  {
   "cell_type": "markdown",
   "metadata": {},
   "source": [
    "## Position"
   ]
  },
  {
   "cell_type": "code",
   "execution_count": 21,
   "metadata": {},
   "outputs": [
    {
     "data": {
      "text/plain": [
       "{'iss_position': {'latitude': '-18.4164', 'longitude': '56.8185'},\n",
       " 'message': 'success',\n",
       " 'timestamp': 1560530272}"
      ]
     },
     "execution_count": 21,
     "metadata": {},
     "output_type": "execute_result"
    }
   ],
   "source": [
    "response_2 = requests.get('http://api.open-notify.org/iss-now.json')\n",
    "response_2 = response_2.json()\n",
    "response_2"
   ]
  },
  {
   "cell_type": "code",
   "execution_count": 22,
   "metadata": {},
   "outputs": [
    {
     "data": {
      "text/plain": [
       "(-18.4164, 56.8185)"
      ]
     },
     "execution_count": 22,
     "metadata": {},
     "output_type": "execute_result"
    }
   ],
   "source": [
    "lat = float(response_2['iss_position']['latitude'])\n",
    "long = float(response_2['iss_position']['longitude'])\n",
    "(lat, long)"
   ]
  },
  {
   "cell_type": "markdown",
   "metadata": {},
   "source": [
    "## Time"
   ]
  },
  {
   "cell_type": "code",
   "execution_count": 23,
   "metadata": {
    "scrolled": true
   },
   "outputs": [
    {
     "data": {
      "text/plain": [
       "1560530272"
      ]
     },
     "execution_count": 23,
     "metadata": {},
     "output_type": "execute_result"
    }
   ],
   "source": [
    "# Unix timestamp\n",
    "timestamp = response_2['timestamp']\n",
    "timestamp"
   ]
  },
  {
   "cell_type": "code",
   "execution_count": 24,
   "metadata": {},
   "outputs": [
    {
     "data": {
      "text/plain": [
       "datetime.datetime(2019, 6, 14, 18, 37, 52)"
      ]
     },
     "execution_count": 24,
     "metadata": {},
     "output_type": "execute_result"
    }
   ],
   "source": [
    "# Datetime object\n",
    "time_dt = dt.datetime.fromtimestamp(timestamp)\n",
    "time_dt"
   ]
  },
  {
   "cell_type": "code",
   "execution_count": 25,
   "metadata": {},
   "outputs": [
    {
     "data": {
      "text/plain": [
       "'2019-06-14 18:37:52'"
      ]
     },
     "execution_count": 25,
     "metadata": {},
     "output_type": "execute_result"
    }
   ],
   "source": [
    "when = time_dt.strftime('%Y-%m-%d %H:%M:%S')\n",
    "when"
   ]
  },
  {
   "cell_type": "code",
   "execution_count": 32,
   "metadata": {},
   "outputs": [
    {
     "data": {
      "text/plain": [
       "'18:37:52'"
      ]
     },
     "execution_count": 32,
     "metadata": {},
     "output_type": "execute_result"
    }
   ],
   "source": [
    "hour = time_dt.strftime('%H:%M:%S')\n",
    "hour"
   ]
  },
  {
   "cell_type": "markdown",
   "metadata": {},
   "source": [
    "# Map"
   ]
  },
  {
   "cell_type": "code",
   "execution_count": 26,
   "metadata": {},
   "outputs": [
    {
     "data": {
      "application/vnd.jupyter.widget-view+json": {
       "model_id": "f8a8bcad56734f38808d58aed7b24e79",
       "version_major": 2,
       "version_minor": 0
      },
      "text/html": [
       "<p>Failed to display Jupyter Widget of type <code>Map</code>.</p>\n",
       "<p>\n",
       "  If you're reading this message in the Jupyter Notebook or JupyterLab Notebook, it may mean\n",
       "  that the widgets JavaScript is still loading. If this message persists, it\n",
       "  likely means that the widgets JavaScript library is either not installed or\n",
       "  not enabled. See the <a href=\"https://ipywidgets.readthedocs.io/en/stable/user_install.html\">Jupyter\n",
       "  Widgets Documentation</a> for setup instructions.\n",
       "</p>\n",
       "<p>\n",
       "  If you're reading this message in another frontend (for example, a static\n",
       "  rendering on GitHub or <a href=\"https://nbviewer.jupyter.org/\">NBViewer</a>),\n",
       "  it may mean that your frontend doesn't currently support widgets.\n",
       "</p>\n"
      ],
      "text/plain": [
       "Map(basemap={'url': 'https://{s}.tile.openstreetmap.org/{z}/{x}/{y}.png', 'max_zoom': 19, 'attribution': 'Map data (c) <a href=\"https://openstreetmap.org\">OpenStreetMap</a> contributors'}, center=[-18.4164, 56.8185], layers=(TileLayer(base=True, max_zoom=19, min_zoom=1, options=['attribution', 'detect_retina', 'max_zoom', 'min_zoom', 'tile_size']), Marker(draggable=False, location=[-18.4164, 56.8185], options=['alt', 'draggable', 'keyboard', 'rise_offset', 'rise_on_hover', 'rotation_angle', 'rotation_origin', 'title', 'z_index_offset']), TileLayer(attribution='Imagery provided by services from the Global Imagery Browse Services (GIBS), operated by the NASA/GSFC/Earth Science Data and Information System (<a href=\"https://earthdata.nasa.gov\">ESDIS</a>) with funding provided by NASA/HQ.', max_zoom=9, min_zoom=1, name='NASAGIBS.ViirsTrueColorCR', options=['attribution', 'detect_retina', 'max_zoom', 'min_zoom', 'tile_size'], url='https://gibs.earthdata.nasa.gov/wmts/epsg3857/best/VIIRS_SNPP_CorrectedReflectance_TrueColor/default/2019-06-13/GoogleMapsCompatible_Level9/{z}/{y}/{x}.jpg')), options=['attribution_control', 'basemap', 'bounce_at_zoom_limits', 'box_zoom', 'center', 'close_popup_on_click', 'double_click_zoom', 'dragging', 'inertia', 'inertia_deceleration', 'inertia_max_speed', 'interpolation', 'keyboard', 'keyboard_pan_offset', 'keyboard_zoom_offset', 'max_zoom', 'min_zoom', 'scroll_wheel_zoom', 'tap', 'tap_tolerance', 'touch_zoom', 'world_copy_jump', 'zoom', 'zoom_animation_threshold', 'zoom_control', 'zoom_start'], zoom=3)"
      ]
     },
     "metadata": {},
     "output_type": "display_data"
    }
   ],
   "source": [
    "from ipyleaflet import Map, basemaps, basemap_to_tiles, Marker\n",
    "\n",
    "center = (lat,long)\n",
    "\n",
    "m = Map(\n",
    "    center=center,\n",
    "    zoom=3\n",
    ")\n",
    "\n",
    "# Marker\n",
    "marker = Marker(location=center, draggable=False)\n",
    "m.add_layer(marker);\n",
    "\n",
    "# Add TileLayer\n",
    "hour = int(time_dt.strftime('%H'))\n",
    "\n",
    "layer = basemaps.NASAGIBS.ViirsTrueColorCR\n",
    "\n",
    "style_layer = basemap_to_tiles(layer) \n",
    "m.add_layer(style_layer)\n",
    "\n",
    "m"
   ]
  },
  {
   "cell_type": "markdown",
   "metadata": {},
   "source": [
    "# Country"
   ]
  },
  {
   "cell_type": "markdown",
   "metadata": {},
   "source": [
    "The GeoNames geographical database covers all countries and contains over eleven million placenames that can be downloaded or accessed via their [web services](https://www.geonames.org/export/web-services.html).\n",
    "\n",
    "*Important: Do not use the 'demo' account for your app or your tests. The cell below was actually ran with my user name before I changed it.*"
   ]
  },
  {
   "cell_type": "markdown",
   "metadata": {},
   "source": [
    "If the latitude and longitude returned by Open Notify correspond to a country, we return the name of that country using the countryCode API, otherwise, we return the name of the ocean/sea using the ocean API:\n",
    "\n",
    "- countryCode API : http://api.geonames.org/countryCode?\n",
    "- ocean API: http://api.geonames.org/ocean?"
   ]
  },
  {
   "cell_type": "code",
   "execution_count": 31,
   "metadata": {},
   "outputs": [
    {
     "name": "stdout",
     "output_type": "stream",
     "text": [
      "Indian Ocean\n"
     ]
    }
   ],
   "source": [
    "parameters = {'lat': lat, 'lng': long, 'type': 'JSON', 'radius':1, 'username':'demo'}\n",
    "response_3 = requests.get('http://api.geonames.org/countryCode?', params = parameters)\n",
    "response_3 = response_3.json()\n",
    "\n",
    "if 'countryName' in response_3:\n",
    "    country = response_3['countryName']\n",
    "    print(country)\n",
    "else:\n",
    "    parameters = {'lat': lat, 'lng': long, 'radius':1, 'username':'demo'};\n",
    "    response_4 = requests.get('http://api.geonames.org/oceanJSON?', params = parameters)\n",
    "    response_4 = response_4.json()\n",
    "    ocean = response_4['ocean']['name']\n",
    "    print(ocean)"
   ]
  }
 ],
 "metadata": {
  "kernelspec": {
   "display_name": "Python 3",
   "language": "python",
   "name": "python3"
  },
  "language_info": {
   "codemirror_mode": {
    "name": "ipython",
    "version": 3
   },
   "file_extension": ".py",
   "mimetype": "text/x-python",
   "name": "python",
   "nbconvert_exporter": "python",
   "pygments_lexer": "ipython3",
   "version": "3.6.4"
  }
 },
 "nbformat": 4,
 "nbformat_minor": 2
}
